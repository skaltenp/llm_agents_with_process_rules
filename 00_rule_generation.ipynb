{
 "cells": [
  {
   "cell_type": "code",
   "execution_count": null,
   "metadata": {},
   "outputs": [],
   "source": [
    "import os\n",
    "import json\n",
    "import random\n",
    "from glob import glob\n",
    "from typing import Mapping, Literal, Any\n",
    "\n",
    "import textworld.gym\n",
    "from textworld import EnvInfos, Agent\n",
    "\n",
    "import numpy as np\n",
    "import pandas as pd\n",
    "import ollama\n",
    "\n",
    "from IPython.display import clear_output\n",
    "\n",
    "from langgraph.graph import MessagesState\n",
    "from langchain_core.messages import SystemMessage, HumanMessage, AIMessage, ToolMessage\n",
    "\n",
    "from langgraph.graph import START, StateGraph\n",
    "from langgraph.prebuilt import ToolNode, tools_condition\n",
    "from IPython.display import Image, display\n",
    "\n",
    "from langchain_core.tools import tool\n",
    "\n",
    "from langchain_openai import ChatOpenAI\n",
    "from langchain_ollama import ChatOllama\n",
    "\n",
    "from langgraph.checkpoint.memory import MemorySaver\n",
    "\n",
    "from langgraph.graph import END"
   ]
  },
  {
   "cell_type": "code",
   "execution_count": null,
   "metadata": {},
   "outputs": [],
   "source": [
    "np.random.seed(42)\n",
    "random.seed(42)\n",
    "SEEDS = [random.randint(0, 1000) for _ in range(5)]\n",
    "print(SEEDS)\n",
    "BPMNS = sorted([x for x in os.listdir(\"bpmn\") if x.endswith(\".bpmn\")])\n",
    "print(BPMNS)\n",
    "BPMN_PATHS = [os.path.join(\"bpmn\", x) for x in BPMNS]\n",
    "print(BPMN_PATHS)\n",
    "\n",
    "if not os.path.isdir(\"rules\"):\n",
    "    os.makedirs(\"rules\")"
   ]
  },
  {
   "cell_type": "code",
   "execution_count": null,
   "metadata": {},
   "outputs": [],
   "source": [
    "for bpmn_path in BPMN_PATHS:\n",
    "    for seed in SEEDS:    \n",
    "        llm = ChatOpenAI(\n",
    "            model=\"gpt-4o\",\n",
    "            temperature=0,\n",
    "            seed=seed\n",
    "        )\n",
    "        process_bpmn = \"\"\n",
    "        with open(bpmn_path, \"r\") as f:\n",
    "            process_bpmn = f.read()\n",
    "        process_rule = llm.invoke(f\"\"\"You are an assistant that converts business process models defined with the business process model notation in XML into process steps an LLM agent will automatically execute to complete the process. \n",
    "\n",
    "        Convert the BPMN XML into unambiguous and pragmatic step that include important step information, decision rules, and the additional text annotations.\n",
    "\n",
    "        - The steps need to be designed as clear, unambiguous instructions for an LLM agent.\n",
    "        - Convert XOR statements to if-else statements based on the XOR gateway decision rules.\n",
    "        - Nest every step of an if path within the if statement and every else path step within an else statement.\n",
    "        - Linearize parallelization gateways into sequential steps.\n",
    "        - Include all additional text annotations from the BPMN XML in the respective step instruction.\n",
    "        - Ignore all process parts that are not done in the LLM Agent lane.\n",
    "        - Hold the formatting of the steps as simple as possible.\n",
    "\n",
    "        Convert the following XML BPMN modeling according to the instructions above:\n",
    "\n",
    "        {process_bpmn}\n",
    "\n",
    "        Do not include receiving the error message as the first step.\"\"\").content\n",
    "        rule_path = os.path.join(\"rules\", f\"{bpmn_path.split('/')[-1].replace('.bpmn', '')}\")\n",
    "        if not os.path.isdir(rule_path):\n",
    "            os.makedirs(rule_path)\n",
    "        with open(os.path.join(rule_path, f\"{seed}.md\"), \"w\") as f:\n",
    "            f.write(process_rule)"
   ]
  }
 ],
 "metadata": {
  "kernelspec": {
   "display_name": "agentic_bpm",
   "language": "python",
   "name": "python3"
  },
  "language_info": {
   "codemirror_mode": {
    "name": "ipython",
    "version": 3
   },
   "file_extension": ".py",
   "mimetype": "text/x-python",
   "name": "python",
   "nbconvert_exporter": "python",
   "pygments_lexer": "ipython3",
   "version": "3.11.11"
  }
 },
 "nbformat": 4,
 "nbformat_minor": 2
}
