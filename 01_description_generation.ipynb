{
 "cells": [
  {
   "cell_type": "code",
   "execution_count": null,
   "metadata": {},
   "outputs": [],
   "source": [
    "import os\n",
    "import json\n",
    "import random\n",
    "from glob import glob\n",
    "from typing import Mapping, Literal, Any\n",
    "\n",
    "import textworld.gym\n",
    "from textworld import EnvInfos, Agent\n",
    "\n",
    "import numpy as np\n",
    "import pandas as pd\n",
    "import ollama\n",
    "\n",
    "from IPython.display import clear_output\n",
    "\n",
    "from langgraph.graph import MessagesState\n",
    "from langchain_core.messages import SystemMessage, HumanMessage, AIMessage, ToolMessage\n",
    "\n",
    "from langgraph.graph import START, StateGraph\n",
    "from langgraph.prebuilt import ToolNode, tools_condition\n",
    "from IPython.display import Image, display\n",
    "\n",
    "from langchain_core.tools import tool\n",
    "\n",
    "from langchain_openai import ChatOpenAI\n",
    "from langchain_ollama import ChatOllama\n",
    "\n",
    "from langgraph.checkpoint.memory import MemorySaver\n",
    "\n",
    "from langgraph.graph import END"
   ]
  },
  {
   "cell_type": "code",
   "execution_count": 2,
   "metadata": {},
   "outputs": [
    {
     "name": "stdout",
     "output_type": "stream",
     "text": [
      "[654, 114, 25, 759, 281]\n",
      "['process1.bpmn', 'process2.bpmn', 'process3.bpmn', 'process4.bpmn', 'process5.bpmn', 'process6.bpmn', 'process7.bpmn']\n",
      "['bpmn/process1.bpmn', 'bpmn/process2.bpmn', 'bpmn/process3.bpmn', 'bpmn/process4.bpmn', 'bpmn/process5.bpmn', 'bpmn/process6.bpmn', 'bpmn/process7.bpmn']\n"
     ]
    }
   ],
   "source": [
    "np.random.seed(42)\n",
    "random.seed(42)\n",
    "SEEDS = [random.randint(0, 1000) for _ in range(5)]\n",
    "print(SEEDS)\n",
    "BPMNS = sorted([x for x in os.listdir(\"bpmn\") if x.endswith(\".bpmn\")])\n",
    "print(BPMNS)\n",
    "BPMN_PATHS = [os.path.join(\"bpmn\", x) for x in BPMNS]\n",
    "print(BPMN_PATHS)\n",
    "\n",
    "if not os.path.isdir(\"descriptions\"):\n",
    "    os.makedirs(\"descriptions\")"
   ]
  },
  {
   "cell_type": "code",
   "execution_count": 3,
   "metadata": {},
   "outputs": [],
   "source": [
    "for bpmn_path in BPMN_PATHS:\n",
    "    for seed in SEEDS:    \n",
    "        llm = ChatOpenAI(\n",
    "            model=\"gpt-4o\",\n",
    "            temperature=0,\n",
    "            seed=seed\n",
    "        )\n",
    "        process_bpmn = \"\"\n",
    "        with open(bpmn_path, \"r\") as f:\n",
    "            process_bpmn = f.read()\n",
    "        process_rule = llm.invoke(f\"\"\"Convert the following BPMN XML into a natural, human-readable text that describes the process as if someone were explaining it in plain language. The text should be coherent and continuous, reflecting how a person would describe the process step by step.  \n",
    "\n",
    "- Only include tasks performed by the LLM Agent. Ignore all other lanes.  \n",
    "- Do not format the steps as a numbered list or in a rigid structure—write the explanation in flowing prose.  \n",
    "- Avoid overly technical jargon. The description should be understandable to someone without BPMN knowledge.  \n",
    "- Do not start with receiving the error message; begin the description from the next relevant action.  \n",
    "- Ensure that all additional text annotations (e.g., error messages, emails, transaction details) are naturally incorporated into the explanation, maintaining the context in which they are used.\n",
    "- Always include the EXPLICIT email-adresses of the persons to send the email to.\n",
    "- Always include the EXPLICIT content to send in an email included in the text annotations.\n",
    "- Always include the EXPLICIT transaction details of the transaction to be performed.\n",
    "- Always include the EXPLICIT parameter names to be passed to the function in the text annotations.\n",
    "- Always include the EXPLICIT parameter values to be passed to the function in the text annotations.\n",
    "- Always include the EXPLICIT function to be called in the text annotations.\n",
    "\n",
    "Use the following BPMN XML to generate the text:\n",
    "\n",
    "{process_bpmn}\n",
    "\n",
    "\"\"\").content\n",
    "        rule_path = os.path.join(\"descriptions\", f\"{bpmn_path.split('/')[-1].replace('.bpmn', '')}\")\n",
    "        if not os.path.isdir(rule_path):\n",
    "            os.makedirs(rule_path)\n",
    "        with open(os.path.join(rule_path, f\"{seed}.md\"), \"w\") as f:\n",
    "            f.write(process_rule)"
   ]
  }
 ],
 "metadata": {
  "kernelspec": {
   "display_name": "agentic_bpm",
   "language": "python",
   "name": "python3"
  },
  "language_info": {
   "codemirror_mode": {
    "name": "ipython",
    "version": 3
   },
   "file_extension": ".py",
   "mimetype": "text/x-python",
   "name": "python",
   "nbconvert_exporter": "python",
   "pygments_lexer": "ipython3",
   "version": "3.11.11"
  }
 },
 "nbformat": 4,
 "nbformat_minor": 2
}
