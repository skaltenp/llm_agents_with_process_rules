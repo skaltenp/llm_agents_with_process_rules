{
 "cells": [
  {
   "cell_type": "code",
   "execution_count": null,
   "metadata": {},
   "outputs": [],
   "source": [
    "import os\n",
    "import re\n",
    "import ast\n",
    "import json\n",
    "\n",
    "import numpy as np\n",
    "import pandas as pd\n",
    "import ollama\n",
    "\n",
    "from langgraph.graph import MessagesState\n",
    "from langchain_core.messages import SystemMessage, HumanMessage, AIMessage, ToolMessage\n",
    "\n",
    "from langgraph.graph import START, StateGraph\n",
    "from langgraph.prebuilt import ToolNode, tools_condition\n",
    "from IPython.display import Image, display\n",
    "\n",
    "from langchain_core.tools import tool\n",
    "\n",
    "from langchain_openai import ChatOpenAI\n",
    "\n",
    "from langchain_community.vectorstores import FAISS\n",
    "from langchain_openai import OpenAIEmbeddings\n",
    "from langchain_core.documents import Document\n",
    "\n"
   ]
  },
  {
   "cell_type": "code",
   "execution_count": 2,
   "metadata": {},
   "outputs": [],
   "source": [
    "rules_dir = \"rules\"\n",
    "vector_db_dir = \"vector_db\"\n",
    "if not os.path.exists(vector_db_dir):\n",
    "    os.makedirs(vector_db_dir)\n",
    "embedder = OpenAIEmbeddings(\n",
    "    model=\"text-embedding-3-small\",\n",
    ")\n",
    "processes_error_messages = [\n",
    "    [\"process1\", \"Location <storage_location_id> is not allowed (Check your entry.)\"],\n",
    "    [\"process2\", \"Material <material_id> <plant_id> <storage_location_id> is not available\"],\n",
    "    [\"process3\", \"G/L account <gl_account_id> is locked for posting in company code <company_code>\"],\n",
    "    [\"process4\", \"G/L account <gl_account_id> is not provided for in company code <company_code>\"],\n",
    "    [\"process5\", \"System status <system_status> is active (ORD <order_number>)\"],\n",
    "    [\"process6\", \"'User status LOIA is active' OR 'Order <order_id> not available' OR 'Enter batch'\"],\n",
    "]\n",
    "for seed in [\"25\", \"114\", \"281\", \"654\", \"759\"]:    \n",
    "    documents = []\n",
    "    for [process, error_message] in processes_error_messages:\n",
    "        with open(f\"{rules_dir}/{process}/{seed}.md\") as f:\n",
    "            documents.append(Document(page_content=error_message, metadata={\"rule\": f.read()}))\n",
    "    db = FAISS.from_documents(documents, embedder)\n",
    "    db.save_local(f\"{vector_db_dir}/{seed}\")"
   ]
  },
  {
   "cell_type": "code",
   "execution_count": 2,
   "metadata": {},
   "outputs": [],
   "source": [
    "rules_dir = \"descriptions\"\n",
    "vector_db_dir = \"vector_db_descriptions\"\n",
    "if not os.path.exists(vector_db_dir):\n",
    "    os.makedirs(vector_db_dir)\n",
    "embedder = OpenAIEmbeddings(\n",
    "    model=\"text-embedding-3-small\",\n",
    ")\n",
    "processes_error_messages = [\n",
    "    [\"process1\", \"Location <storage_location_id> is not allowed (Check your entry.)\"],\n",
    "    [\"process2\", \"Material <material_id> <plant_id> <storage_location_id> is not available\"],\n",
    "    [\"process3\", \"G/L account <gl_account_id> is locked for posting in company code <company_code>\"],\n",
    "    [\"process4\", \"G/L account <gl_account_id> is not provided for in company code <company_code>\"],\n",
    "    [\"process5\", \"System status <system_status> is active (ORD <order_number>)\"],\n",
    "    [\"process6\", \"'User status LOIA is active' OR 'Order <order_id> not available' OR 'Enter batch'\"],\n",
    "]\n",
    "for seed in [\"25\", \"114\", \"281\", \"654\", \"759\"]:    \n",
    "    documents = []\n",
    "    for [process, error_message] in processes_error_messages:\n",
    "        with open(f\"{rules_dir}/{process}/{seed}.md\") as f:\n",
    "            documents.append(Document(page_content=error_message, metadata={\"rule\": f.read()}))\n",
    "    db = FAISS.from_documents(documents, embedder)\n",
    "    db.save_local(f\"{vector_db_dir}/{seed}\")"
   ]
  }
 ],
 "metadata": {
  "kernelspec": {
   "display_name": "agentic_bpm",
   "language": "python",
   "name": "python3"
  },
  "language_info": {
   "codemirror_mode": {
    "name": "ipython",
    "version": 3
   },
   "file_extension": ".py",
   "mimetype": "text/x-python",
   "name": "python",
   "nbconvert_exporter": "python",
   "pygments_lexer": "ipython3",
   "version": "3.11.11"
  }
 },
 "nbformat": 4,
 "nbformat_minor": 2
}
