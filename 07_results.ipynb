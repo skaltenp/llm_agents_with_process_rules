{
 "cells": [
  {
   "cell_type": "code",
   "execution_count": 1,
   "metadata": {},
   "outputs": [],
   "source": [
    "import os\n",
    "import re\n",
    "import ast\n",
    "import json\n",
    "import time\n",
    "\n",
    "import numpy as np\n",
    "import pandas as pd\n",
    "\n",
    "from IPython.display import clear_output\n",
    "import plotly.express as px"
   ]
  },
  {
   "cell_type": "markdown",
   "metadata": {},
   "source": [
    "After investigating the ``False`` values, there is only one incomplete error handling process instance. The second was incorrectly set to wrong, because there were two materials that needed to be moved."
   ]
  },
  {
   "cell_type": "markdown",
   "metadata": {},
   "source": [
    "# Calculation of Error-Handling Simulation Results"
   ]
  },
  {
   "cell_type": "code",
   "execution_count": 2,
   "metadata": {},
   "outputs": [
    {
     "data": {
      "text/html": [
       "<div>\n",
       "<style scoped>\n",
       "    .dataframe tbody tr th:only-of-type {\n",
       "        vertical-align: middle;\n",
       "    }\n",
       "\n",
       "    .dataframe tbody tr th {\n",
       "        vertical-align: top;\n",
       "    }\n",
       "\n",
       "    .dataframe thead th {\n",
       "        text-align: right;\n",
       "    }\n",
       "</style>\n",
       "<table border=\"1\" class=\"dataframe\">\n",
       "  <thead>\n",
       "    <tr style=\"text-align: right;\">\n",
       "      <th></th>\n",
       "      <th>count</th>\n",
       "    </tr>\n",
       "    <tr>\n",
       "      <th>completed</th>\n",
       "      <th></th>\n",
       "    </tr>\n",
       "  </thead>\n",
       "  <tbody>\n",
       "    <tr>\n",
       "      <th>No</th>\n",
       "      <td>0.01</td>\n",
       "    </tr>\n",
       "    <tr>\n",
       "      <th>Yes</th>\n",
       "      <td>0.99</td>\n",
       "    </tr>\n",
       "  </tbody>\n",
       "</table>\n",
       "</div>"
      ],
      "text/plain": [
       "           count\n",
       "completed       \n",
       "No          0.01\n",
       "Yes         0.99"
      ]
     },
     "metadata": {},
     "output_type": "display_data"
    }
   ],
   "source": [
    "results_dir = \"results\"\n",
    "results_path = os.path.join(results_dir, \"simulation_results_rules.csv\")\n",
    "results = pd.read_csv(results_path)\n",
    "agg_results = results.groupby([\"idoc_id\", \"date\", \"pollex_id\", \"error_message\", \"mockups\"]).agg(list)\n",
    "agg_results[\"messages\"] = agg_results[\"messages\"].apply(lambda x: \"'\"+\"\\n\\n-----\\n\\n\".join(x))\n",
    "agg_results[\"process\"] = agg_results[\"process\"].apply(lambda x: (sum(x) / len(x)))\n",
    "agg_results[\"input_tokens\"] = agg_results[\"input_tokens\"].apply(lambda x: (sum(x) / len(x)))\n",
    "agg_results[\"output_tokens\"] = agg_results[\"output_tokens\"].apply(lambda x: (sum(x) / len(x)))\n",
    "agg_results[\"cached_tokens\"] = agg_results[\"cached_tokens\"].apply(lambda x: (sum(x) / len(x)))\n",
    "agg_results[\"price\"] = agg_results[\"price\"].apply(lambda x: (sum(x) / len(x)))\n",
    "agg_results[\"completed\"] = agg_results[\"completed\"].apply(lambda x: sum(x))\n",
    "agg_results[\"failed_attempts\"] = agg_results[\"failed_attempts\"].apply(lambda x: (sum(x) / len(x)))\n",
    "agg_results = agg_results[[\"process\", \"input_tokens\", \"output_tokens\", \"cached_tokens\", \"price\", \"completed\", \"failed_attempts\", \"messages\", \"correct_steps\"]].copy()\n",
    "agg_results[\"completed_over_all_seeds\"] = agg_results[\"completed\"].apply(lambda x: x == 5)\n",
    "agg_results = agg_results.reset_index()\n",
    "agg_results[\"completed_over_all_seeds\"].value_counts().sort_index().reset_index()\n",
    "agg_results[\"completed_over_all_seeds\"] = agg_results[\"completed_over_all_seeds\"].apply(lambda x: \"Yes\" if x else \"No\")\n",
    "agg_results[\"completed_over_all_seeds\"] = agg_results.apply(lambda x: \"Yes\" if x[\"completed_over_all_seeds\"] == \"Yes\" else \"Yes\" if \"Material\" in x[\"error_message\"] and \"and\" in x[\"error_message\"] else x[\"completed_over_all_seeds\"], axis=1)\n",
    "\n",
    "completed = agg_results[\"completed_over_all_seeds\"].value_counts().sort_index().reset_index().rename(columns={\"completed_over_all_seeds\": \"completed\"})\n",
    "completed = completed.groupby(\"completed\").agg(\"sum\") / len(agg_results)\n",
    "completed[\"count\"] = completed[\"count\"].apply(lambda x: round(x, 2))\n",
    "display(completed)"
   ]
  },
  {
   "cell_type": "code",
   "execution_count": 3,
   "metadata": {},
   "outputs": [
    {
     "data": {
      "text/html": [
       "<div>\n",
       "<style scoped>\n",
       "    .dataframe tbody tr th:only-of-type {\n",
       "        vertical-align: middle;\n",
       "    }\n",
       "\n",
       "    .dataframe tbody tr th {\n",
       "        vertical-align: top;\n",
       "    }\n",
       "\n",
       "    .dataframe thead th {\n",
       "        text-align: right;\n",
       "    }\n",
       "</style>\n",
       "<table border=\"1\" class=\"dataframe\">\n",
       "  <thead>\n",
       "    <tr style=\"text-align: right;\">\n",
       "      <th></th>\n",
       "      <th>error_case</th>\n",
       "      <th>count</th>\n",
       "    </tr>\n",
       "  </thead>\n",
       "  <tbody>\n",
       "    <tr>\n",
       "      <th>0</th>\n",
       "      <td>case4</td>\n",
       "      <td>107</td>\n",
       "    </tr>\n",
       "    <tr>\n",
       "      <th>1</th>\n",
       "      <td>case3</td>\n",
       "      <td>10</td>\n",
       "    </tr>\n",
       "    <tr>\n",
       "      <th>2</th>\n",
       "      <td>case2</td>\n",
       "      <td>1</td>\n",
       "    </tr>\n",
       "  </tbody>\n",
       "</table>\n",
       "</div>"
      ],
      "text/plain": [
       "  error_case  count\n",
       "0      case4    107\n",
       "1      case3     10\n",
       "2      case2      1"
      ]
     },
     "execution_count": 3,
     "metadata": {},
     "output_type": "execute_result"
    }
   ],
   "source": [
    "agg_results[\"error_case\"] = \"\"\n",
    "agg_results.loc[59, \"error_case\"] = \"case2\"\n",
    "def check_for_case(x):\n",
    "    if x[\"error_case\"] != \"\":\n",
    "        return x[\"error_case\"]\n",
    "    correct_steps = x[\"correct_steps\"] #[ast.literal_eval(y) for y in x[\"correct_steps\"]]\n",
    "    for step in correct_steps:\n",
    "        step = ast.literal_eval(step)\n",
    "        for st in step:\n",
    "            if st[0] == \"send_email\" and st[1][\"email\"] == \"error.handler1@company.com\" :\n",
    "                return \"case3\"\n",
    "    return \"case4\"\n",
    "agg_results[\"error_case\"] = agg_results.apply(lambda x: check_for_case(x), axis=1)\n",
    "cases = agg_results[\"error_case\"].value_counts().reset_index()\n",
    "cases"
   ]
  },
  {
   "cell_type": "code",
   "execution_count": 4,
   "metadata": {},
   "outputs": [
    {
     "data": {
      "text/html": [
       "<div>\n",
       "<style scoped>\n",
       "    .dataframe tbody tr th:only-of-type {\n",
       "        vertical-align: middle;\n",
       "    }\n",
       "\n",
       "    .dataframe tbody tr th {\n",
       "        vertical-align: top;\n",
       "    }\n",
       "\n",
       "    .dataframe thead th {\n",
       "        text-align: right;\n",
       "    }\n",
       "</style>\n",
       "<table border=\"1\" class=\"dataframe\">\n",
       "  <thead>\n",
       "    <tr style=\"text-align: right;\">\n",
       "      <th></th>\n",
       "      <th>process</th>\n",
       "      <th>completed</th>\n",
       "      <th>all</th>\n",
       "      <th>completed_percentage</th>\n",
       "      <th>method</th>\n",
       "    </tr>\n",
       "  </thead>\n",
       "  <tbody>\n",
       "    <tr>\n",
       "      <th>0</th>\n",
       "      <td>1.0</td>\n",
       "      <td>14</td>\n",
       "      <td>14</td>\n",
       "      <td>1.00</td>\n",
       "      <td>rules</td>\n",
       "    </tr>\n",
       "    <tr>\n",
       "      <th>1</th>\n",
       "      <td>2.0</td>\n",
       "      <td>25</td>\n",
       "      <td>25</td>\n",
       "      <td>1.00</td>\n",
       "      <td>rules</td>\n",
       "    </tr>\n",
       "    <tr>\n",
       "      <th>2</th>\n",
       "      <td>3.0</td>\n",
       "      <td>8</td>\n",
       "      <td>8</td>\n",
       "      <td>1.00</td>\n",
       "      <td>rules</td>\n",
       "    </tr>\n",
       "    <tr>\n",
       "      <th>3</th>\n",
       "      <td>4.0</td>\n",
       "      <td>6</td>\n",
       "      <td>6</td>\n",
       "      <td>1.00</td>\n",
       "      <td>rules</td>\n",
       "    </tr>\n",
       "    <tr>\n",
       "      <th>4</th>\n",
       "      <td>5.0</td>\n",
       "      <td>42</td>\n",
       "      <td>42</td>\n",
       "      <td>1.00</td>\n",
       "      <td>rules</td>\n",
       "    </tr>\n",
       "    <tr>\n",
       "      <th>5</th>\n",
       "      <td>6.0</td>\n",
       "      <td>7</td>\n",
       "      <td>7</td>\n",
       "      <td>1.00</td>\n",
       "      <td>rules</td>\n",
       "    </tr>\n",
       "    <tr>\n",
       "      <th>6</th>\n",
       "      <td>7.0</td>\n",
       "      <td>12</td>\n",
       "      <td>12</td>\n",
       "      <td>1.00</td>\n",
       "      <td>rules</td>\n",
       "    </tr>\n",
       "    <tr>\n",
       "      <th>7</th>\n",
       "      <td>8.0</td>\n",
       "      <td>3</td>\n",
       "      <td>4</td>\n",
       "      <td>0.75</td>\n",
       "      <td>rules</td>\n",
       "    </tr>\n",
       "  </tbody>\n",
       "</table>\n",
       "</div>"
      ],
      "text/plain": [
       "   process  completed  all  completed_percentage method\n",
       "0      1.0         14   14                  1.00  rules\n",
       "1      2.0         25   25                  1.00  rules\n",
       "2      3.0          8    8                  1.00  rules\n",
       "3      4.0          6    6                  1.00  rules\n",
       "4      5.0         42   42                  1.00  rules\n",
       "5      6.0          7    7                  1.00  rules\n",
       "6      7.0         12   12                  1.00  rules\n",
       "7      8.0          3    4                  0.75  rules"
      ]
     },
     "metadata": {},
     "output_type": "display_data"
    }
   ],
   "source": [
    "completed_by_process = agg_results[agg_results[\"completed_over_all_seeds\"] == \"Yes\"][\"process\"].value_counts().sort_index().reset_index().rename(columns={\"count\": \"completed\"})\n",
    "all = agg_results[\"process\"].value_counts().sort_index().reset_index().rename(columns={\"count\": \"all\"})\n",
    "completed_by_process = pd.merge(completed_by_process, all, on=\"process\", how=\"left\")\n",
    "completed_by_process[\"completed_percentage\"] = completed_by_process[\"completed\"] / completed_by_process[\"all\"]\n",
    "completed_by_process[\"method\"] = \"rules\"\n",
    "completed_by_process[\"completed_percentage\"] = completed_by_process[\"completed_percentage\"].apply(lambda x: round(x, 2))\n",
    "display(completed_by_process)\n",
    "c = completed_by_process.copy()"
   ]
  },
  {
   "cell_type": "code",
   "execution_count": 5,
   "metadata": {},
   "outputs": [],
   "source": [
    "PREP = False\n",
    "if PREP:        \n",
    "    results_dir = \"results\"\n",
    "    results_path = os.path.join(results_dir, \"simulation_results_descriptions.csv\")\n",
    "    results = pd.read_csv(results_path)\n",
    "    def get_incomplete_reason(x):\n",
    "        clear_output()\n",
    "        if x[\"completed\"] == True:\n",
    "            return \"\"\n",
    "        print(x[\"messages\"])\n",
    "        print(x[\"correct_steps\"])\n",
    "        print(x[\"incorrect_steps\"])\n",
    "        time.sleep(1)\n",
    "        x = input(\"What was the reason for the incomplete result?\")\n",
    "        return x\n",
    "    results[\"incomplete_reason\"] = results.apply(get_incomplete_reason, axis=1)\n",
    "    results_dir = \"results\"\n",
    "    results_path = os.path.join(results_dir, \"simulation_results_descriptions_reasons.csv\")\n",
    "    results = pd.read_csv(results_path)\n",
    "    results.incomplete_reason.value_counts().reset_index()\n",
    "    results.incomplete_reason.value_counts().reset_index()"
   ]
  },
  {
   "cell_type": "code",
   "execution_count": 6,
   "metadata": {},
   "outputs": [
    {
     "data": {
      "text/html": [
       "<div>\n",
       "<style scoped>\n",
       "    .dataframe tbody tr th:only-of-type {\n",
       "        vertical-align: middle;\n",
       "    }\n",
       "\n",
       "    .dataframe tbody tr th {\n",
       "        vertical-align: top;\n",
       "    }\n",
       "\n",
       "    .dataframe thead th {\n",
       "        text-align: right;\n",
       "    }\n",
       "</style>\n",
       "<table border=\"1\" class=\"dataframe\">\n",
       "  <thead>\n",
       "    <tr style=\"text-align: right;\">\n",
       "      <th></th>\n",
       "      <th>count</th>\n",
       "    </tr>\n",
       "    <tr>\n",
       "      <th>completed</th>\n",
       "      <th></th>\n",
       "    </tr>\n",
       "  </thead>\n",
       "  <tbody>\n",
       "    <tr>\n",
       "      <th>No</th>\n",
       "      <td>0.16</td>\n",
       "    </tr>\n",
       "    <tr>\n",
       "      <th>Yes</th>\n",
       "      <td>0.84</td>\n",
       "    </tr>\n",
       "  </tbody>\n",
       "</table>\n",
       "</div>"
      ],
      "text/plain": [
       "           count\n",
       "completed       \n",
       "No          0.16\n",
       "Yes         0.84"
      ]
     },
     "metadata": {},
     "output_type": "display_data"
    }
   ],
   "source": [
    "results_dir = \"results\"\n",
    "results_path = os.path.join(results_dir, \"simulation_results_descriptions_prep.csv\")\n",
    "results = pd.read_csv(results_path)\n",
    "results[\"incomplete_reason\"] = results[\"incomplete_reason\"].fillna(\"\")\n",
    "agg_results = results.groupby([\"idoc_id\", \"date\", \"pollex_id\", \"error_message\", \"mockups\"]).agg(list)\n",
    "agg_results[\"messages\"] = agg_results[\"messages\"].apply(lambda x: \"'\"+\"\\n\\n-----\\n\\n\".join(x))\n",
    "agg_results[\"process\"] = agg_results[\"process\"].apply(lambda x: (sum(x) / len(x)))\n",
    "agg_results[\"input_tokens\"] = agg_results[\"input_tokens\"].apply(lambda x: (sum(x) / len(x)))\n",
    "agg_results[\"output_tokens\"] = agg_results[\"output_tokens\"].apply(lambda x: (sum(x) / len(x)))\n",
    "agg_results[\"cached_tokens\"] = agg_results[\"cached_tokens\"].apply(lambda x: (sum(x) / len(x)))\n",
    "agg_results[\"price\"] = agg_results[\"price\"].apply(lambda x: (sum(x) / len(x)))\n",
    "agg_results[\"completed\"] = agg_results[\"completed\"].apply(lambda x: sum(x))\n",
    "agg_results[\"failed_attempts\"] = agg_results[\"failed_attempts\"].apply(lambda x: (sum(x) / len(x)))\n",
    "agg_results[\"incomplete_reason\"] = agg_results[\"incomplete_reason\"].apply(lambda x: \" \".join([str(y) for y in x]).strip())\n",
    "agg_results = agg_results[[\"process\", \"input_tokens\", \"output_tokens\", \"cached_tokens\", \"price\", \"completed\", \"failed_attempts\", \"messages\", \"incomplete_reason\", \"correct_steps\"]].copy()\n",
    "agg_results[\"completed_over_all_seeds\"] = agg_results[\"completed\"].apply(lambda x: x == 5)\n",
    "agg_results = agg_results.reset_index()\n",
    "agg_results[\"completed_over_all_seeds\"] = agg_results[\"completed_over_all_seeds\"].apply(lambda x: \"Yes\" if x else \"No\")\n",
    "agg_results[\"completed_over_all_seeds\"] = agg_results.apply(lambda x: \"Yes\" if x[\"incomplete_reason\"] == \"\" else \"No\", axis=1)\n",
    "\n",
    "completed = agg_results[\"completed_over_all_seeds\"].value_counts().sort_index().reset_index().rename(columns={\"completed_over_all_seeds\": \"completed\"})\n",
    "completed = completed.groupby(\"completed\").agg(\"sum\") / len(agg_results)\n",
    "completed[\"count\"] = completed[\"count\"].apply(lambda x: round(x, 2))\n",
    "display(completed)"
   ]
  },
  {
   "cell_type": "code",
   "execution_count": 7,
   "metadata": {},
   "outputs": [
    {
     "data": {
      "text/html": [
       "<div>\n",
       "<style scoped>\n",
       "    .dataframe tbody tr th:only-of-type {\n",
       "        vertical-align: middle;\n",
       "    }\n",
       "\n",
       "    .dataframe tbody tr th {\n",
       "        vertical-align: top;\n",
       "    }\n",
       "\n",
       "    .dataframe thead th {\n",
       "        text-align: right;\n",
       "    }\n",
       "</style>\n",
       "<table border=\"1\" class=\"dataframe\">\n",
       "  <thead>\n",
       "    <tr style=\"text-align: right;\">\n",
       "      <th></th>\n",
       "      <th>process</th>\n",
       "      <th>completed</th>\n",
       "      <th>all</th>\n",
       "      <th>completed_percentage</th>\n",
       "      <th>method</th>\n",
       "    </tr>\n",
       "  </thead>\n",
       "  <tbody>\n",
       "    <tr>\n",
       "      <th>0</th>\n",
       "      <td>1.0</td>\n",
       "      <td>5</td>\n",
       "      <td>14</td>\n",
       "      <td>0.36</td>\n",
       "      <td>descriptions</td>\n",
       "    </tr>\n",
       "    <tr>\n",
       "      <th>1</th>\n",
       "      <td>2.0</td>\n",
       "      <td>22</td>\n",
       "      <td>25</td>\n",
       "      <td>0.88</td>\n",
       "      <td>descriptions</td>\n",
       "    </tr>\n",
       "    <tr>\n",
       "      <th>2</th>\n",
       "      <td>3.0</td>\n",
       "      <td>7</td>\n",
       "      <td>8</td>\n",
       "      <td>0.88</td>\n",
       "      <td>descriptions</td>\n",
       "    </tr>\n",
       "    <tr>\n",
       "      <th>3</th>\n",
       "      <td>4.0</td>\n",
       "      <td>3</td>\n",
       "      <td>6</td>\n",
       "      <td>0.50</td>\n",
       "      <td>descriptions</td>\n",
       "    </tr>\n",
       "    <tr>\n",
       "      <th>4</th>\n",
       "      <td>5.0</td>\n",
       "      <td>42</td>\n",
       "      <td>42</td>\n",
       "      <td>1.00</td>\n",
       "      <td>descriptions</td>\n",
       "    </tr>\n",
       "    <tr>\n",
       "      <th>5</th>\n",
       "      <td>6.0</td>\n",
       "      <td>7</td>\n",
       "      <td>7</td>\n",
       "      <td>1.00</td>\n",
       "      <td>descriptions</td>\n",
       "    </tr>\n",
       "    <tr>\n",
       "      <th>6</th>\n",
       "      <td>7.0</td>\n",
       "      <td>12</td>\n",
       "      <td>12</td>\n",
       "      <td>1.00</td>\n",
       "      <td>descriptions</td>\n",
       "    </tr>\n",
       "    <tr>\n",
       "      <th>7</th>\n",
       "      <td>8.0</td>\n",
       "      <td>1</td>\n",
       "      <td>4</td>\n",
       "      <td>0.25</td>\n",
       "      <td>descriptions</td>\n",
       "    </tr>\n",
       "  </tbody>\n",
       "</table>\n",
       "</div>"
      ],
      "text/plain": [
       "   process  completed  all  completed_percentage        method\n",
       "0      1.0          5   14                  0.36  descriptions\n",
       "1      2.0         22   25                  0.88  descriptions\n",
       "2      3.0          7    8                  0.88  descriptions\n",
       "3      4.0          3    6                  0.50  descriptions\n",
       "4      5.0         42   42                  1.00  descriptions\n",
       "5      6.0          7    7                  1.00  descriptions\n",
       "6      7.0         12   12                  1.00  descriptions\n",
       "7      8.0          1    4                  0.25  descriptions"
      ]
     },
     "metadata": {},
     "output_type": "display_data"
    }
   ],
   "source": [
    "completed_by_process = agg_results[agg_results[\"completed_over_all_seeds\"] == \"Yes\"][\"process\"].value_counts().sort_index().reset_index().rename(columns={\"count\": \"completed\"})\n",
    "all = agg_results[\"process\"].value_counts().sort_index().reset_index().rename(columns={\"count\": \"all\"})\n",
    "completed_by_process = pd.merge(completed_by_process, all, on=\"process\", how=\"left\")\n",
    "completed_by_process[\"completed_percentage\"] = completed_by_process[\"completed\"] / completed_by_process[\"all\"]\n",
    "completed_by_process[\"method\"] = \"descriptions\"\n",
    "completed_by_process[\"completed_percentage\"] = completed_by_process[\"completed_percentage\"].apply(lambda x: round(x, 2))\n",
    "display(completed_by_process)\n",
    "c1 = completed_by_process.copy()"
   ]
  },
  {
   "cell_type": "code",
   "execution_count": 8,
   "metadata": {},
   "outputs": [],
   "source": [
    "c = pd.concat([c, c1]).sort_values([\"process\", \"method\"])\n",
    "c[\"completed_percentage\"] = c[\"completed_percentage\"].apply(lambda x: round(x, 2) * 100)"
   ]
  },
  {
   "cell_type": "code",
   "execution_count": 9,
   "metadata": {},
   "outputs": [
    {
     "data": {
      "application/vnd.plotly.v1+json": {
       "config": {
        "plotlyServerURL": "https://plot.ly",
        "toImageButtonOptions": {
         "filename": "simulation_results_process_automation",
         "format": "png",
         "height": 600,
         "scale": 10,
         "width": 1000
        }
       },
       "data": [
        {
         "alignmentgroup": "True",
         "hovertemplate": "LLM agent information type=descriptions<br>Process ID=%{x}<br>Percentage of completed processes=%{y}<br>text=%{text}<extra></extra>",
         "legendgroup": "descriptions",
         "marker": {
          "color": "rgb(158,202,225)",
          "pattern": {
           "shape": ""
          }
         },
         "name": "descriptions",
         "offsetgroup": "descriptions",
         "orientation": "v",
         "showlegend": true,
         "text": [
          "36% (5/14)",
          "88% (22/25)",
          "88% (7/8)",
          "50% (3/6)",
          "100% (42/42)",
          "100% (7/7)",
          "100% (12/12)",
          "25% (1/4)"
         ],
         "textposition": "inside",
         "type": "bar",
         "x": {
          "bdata": "AAAAAAAA8D8AAAAAAAAAQAAAAAAAAAhAAAAAAAAAEEAAAAAAAAAUQAAAAAAAABhAAAAAAAAAHEAAAAAAAAAgQA==",
          "dtype": "f8"
         },
         "xaxis": "x",
         "y": {
          "bdata": "AAAAAAAAQkAAAAAAAABWQAAAAAAAAFZAAAAAAAAASUAAAAAAAABZQAAAAAAAAFlAAAAAAAAAWUAAAAAAAAA5QA==",
          "dtype": "f8"
         },
         "yaxis": "y"
        },
        {
         "alignmentgroup": "True",
         "hovertemplate": "LLM agent information type=rules<br>Process ID=%{x}<br>Percentage of completed processes=%{y}<br>text=%{text}<extra></extra>",
         "legendgroup": "rules",
         "marker": {
          "color": "rgb(107,174,214)",
          "pattern": {
           "shape": ""
          }
         },
         "name": "rules",
         "offsetgroup": "rules",
         "orientation": "v",
         "showlegend": true,
         "text": [
          "100% (14/14)",
          "100% (25/25)",
          "100% (8/8)",
          "100% (6/6)",
          "100% (42/42)",
          "100% (7/7)",
          "100% (12/12)",
          "75% (3/4)"
         ],
         "textposition": "inside",
         "type": "bar",
         "x": {
          "bdata": "AAAAAAAA8D8AAAAAAAAAQAAAAAAAAAhAAAAAAAAAEEAAAAAAAAAUQAAAAAAAABhAAAAAAAAAHEAAAAAAAAAgQA==",
          "dtype": "f8"
         },
         "xaxis": "x",
         "y": {
          "bdata": "AAAAAAAAWUAAAAAAAABZQAAAAAAAAFlAAAAAAAAAWUAAAAAAAABZQAAAAAAAAFlAAAAAAAAAWUAAAAAAAMBSQA==",
          "dtype": "f8"
         },
         "yaxis": "y"
        }
       ],
       "layout": {
        "barmode": "group",
        "legend": {
         "orientation": "h",
         "title": {
          "text": "LLM agent information type"
         },
         "tracegroupgap": 0
        },
        "margin": {
         "t": 60
        },
        "template": {
         "data": {
          "bar": [
           {
            "error_x": {
             "color": "#2a3f5f"
            },
            "error_y": {
             "color": "#2a3f5f"
            },
            "marker": {
             "line": {
              "color": "#E5ECF6",
              "width": 0.5
             },
             "pattern": {
              "fillmode": "overlay",
              "size": 10,
              "solidity": 0.2
             }
            },
            "type": "bar"
           }
          ],
          "barpolar": [
           {
            "marker": {
             "line": {
              "color": "#E5ECF6",
              "width": 0.5
             },
             "pattern": {
              "fillmode": "overlay",
              "size": 10,
              "solidity": 0.2
             }
            },
            "type": "barpolar"
           }
          ],
          "carpet": [
           {
            "aaxis": {
             "endlinecolor": "#2a3f5f",
             "gridcolor": "white",
             "linecolor": "white",
             "minorgridcolor": "white",
             "startlinecolor": "#2a3f5f"
            },
            "baxis": {
             "endlinecolor": "#2a3f5f",
             "gridcolor": "white",
             "linecolor": "white",
             "minorgridcolor": "white",
             "startlinecolor": "#2a3f5f"
            },
            "type": "carpet"
           }
          ],
          "choropleth": [
           {
            "colorbar": {
             "outlinewidth": 0,
             "ticks": ""
            },
            "type": "choropleth"
           }
          ],
          "contour": [
           {
            "colorbar": {
             "outlinewidth": 0,
             "ticks": ""
            },
            "colorscale": [
             [
              0,
              "#0d0887"
             ],
             [
              0.1111111111111111,
              "#46039f"
             ],
             [
              0.2222222222222222,
              "#7201a8"
             ],
             [
              0.3333333333333333,
              "#9c179e"
             ],
             [
              0.4444444444444444,
              "#bd3786"
             ],
             [
              0.5555555555555556,
              "#d8576b"
             ],
             [
              0.6666666666666666,
              "#ed7953"
             ],
             [
              0.7777777777777778,
              "#fb9f3a"
             ],
             [
              0.8888888888888888,
              "#fdca26"
             ],
             [
              1,
              "#f0f921"
             ]
            ],
            "type": "contour"
           }
          ],
          "contourcarpet": [
           {
            "colorbar": {
             "outlinewidth": 0,
             "ticks": ""
            },
            "type": "contourcarpet"
           }
          ],
          "heatmap": [
           {
            "colorbar": {
             "outlinewidth": 0,
             "ticks": ""
            },
            "colorscale": [
             [
              0,
              "#0d0887"
             ],
             [
              0.1111111111111111,
              "#46039f"
             ],
             [
              0.2222222222222222,
              "#7201a8"
             ],
             [
              0.3333333333333333,
              "#9c179e"
             ],
             [
              0.4444444444444444,
              "#bd3786"
             ],
             [
              0.5555555555555556,
              "#d8576b"
             ],
             [
              0.6666666666666666,
              "#ed7953"
             ],
             [
              0.7777777777777778,
              "#fb9f3a"
             ],
             [
              0.8888888888888888,
              "#fdca26"
             ],
             [
              1,
              "#f0f921"
             ]
            ],
            "type": "heatmap"
           }
          ],
          "histogram": [
           {
            "marker": {
             "pattern": {
              "fillmode": "overlay",
              "size": 10,
              "solidity": 0.2
             }
            },
            "type": "histogram"
           }
          ],
          "histogram2d": [
           {
            "colorbar": {
             "outlinewidth": 0,
             "ticks": ""
            },
            "colorscale": [
             [
              0,
              "#0d0887"
             ],
             [
              0.1111111111111111,
              "#46039f"
             ],
             [
              0.2222222222222222,
              "#7201a8"
             ],
             [
              0.3333333333333333,
              "#9c179e"
             ],
             [
              0.4444444444444444,
              "#bd3786"
             ],
             [
              0.5555555555555556,
              "#d8576b"
             ],
             [
              0.6666666666666666,
              "#ed7953"
             ],
             [
              0.7777777777777778,
              "#fb9f3a"
             ],
             [
              0.8888888888888888,
              "#fdca26"
             ],
             [
              1,
              "#f0f921"
             ]
            ],
            "type": "histogram2d"
           }
          ],
          "histogram2dcontour": [
           {
            "colorbar": {
             "outlinewidth": 0,
             "ticks": ""
            },
            "colorscale": [
             [
              0,
              "#0d0887"
             ],
             [
              0.1111111111111111,
              "#46039f"
             ],
             [
              0.2222222222222222,
              "#7201a8"
             ],
             [
              0.3333333333333333,
              "#9c179e"
             ],
             [
              0.4444444444444444,
              "#bd3786"
             ],
             [
              0.5555555555555556,
              "#d8576b"
             ],
             [
              0.6666666666666666,
              "#ed7953"
             ],
             [
              0.7777777777777778,
              "#fb9f3a"
             ],
             [
              0.8888888888888888,
              "#fdca26"
             ],
             [
              1,
              "#f0f921"
             ]
            ],
            "type": "histogram2dcontour"
           }
          ],
          "mesh3d": [
           {
            "colorbar": {
             "outlinewidth": 0,
             "ticks": ""
            },
            "type": "mesh3d"
           }
          ],
          "parcoords": [
           {
            "line": {
             "colorbar": {
              "outlinewidth": 0,
              "ticks": ""
             }
            },
            "type": "parcoords"
           }
          ],
          "pie": [
           {
            "automargin": true,
            "type": "pie"
           }
          ],
          "scatter": [
           {
            "fillpattern": {
             "fillmode": "overlay",
             "size": 10,
             "solidity": 0.2
            },
            "type": "scatter"
           }
          ],
          "scatter3d": [
           {
            "line": {
             "colorbar": {
              "outlinewidth": 0,
              "ticks": ""
             }
            },
            "marker": {
             "colorbar": {
              "outlinewidth": 0,
              "ticks": ""
             }
            },
            "type": "scatter3d"
           }
          ],
          "scattercarpet": [
           {
            "marker": {
             "colorbar": {
              "outlinewidth": 0,
              "ticks": ""
             }
            },
            "type": "scattercarpet"
           }
          ],
          "scattergeo": [
           {
            "marker": {
             "colorbar": {
              "outlinewidth": 0,
              "ticks": ""
             }
            },
            "type": "scattergeo"
           }
          ],
          "scattergl": [
           {
            "marker": {
             "colorbar": {
              "outlinewidth": 0,
              "ticks": ""
             }
            },
            "type": "scattergl"
           }
          ],
          "scattermap": [
           {
            "marker": {
             "colorbar": {
              "outlinewidth": 0,
              "ticks": ""
             }
            },
            "type": "scattermap"
           }
          ],
          "scattermapbox": [
           {
            "marker": {
             "colorbar": {
              "outlinewidth": 0,
              "ticks": ""
             }
            },
            "type": "scattermapbox"
           }
          ],
          "scatterpolar": [
           {
            "marker": {
             "colorbar": {
              "outlinewidth": 0,
              "ticks": ""
             }
            },
            "type": "scatterpolar"
           }
          ],
          "scatterpolargl": [
           {
            "marker": {
             "colorbar": {
              "outlinewidth": 0,
              "ticks": ""
             }
            },
            "type": "scatterpolargl"
           }
          ],
          "scatterternary": [
           {
            "marker": {
             "colorbar": {
              "outlinewidth": 0,
              "ticks": ""
             }
            },
            "type": "scatterternary"
           }
          ],
          "surface": [
           {
            "colorbar": {
             "outlinewidth": 0,
             "ticks": ""
            },
            "colorscale": [
             [
              0,
              "#0d0887"
             ],
             [
              0.1111111111111111,
              "#46039f"
             ],
             [
              0.2222222222222222,
              "#7201a8"
             ],
             [
              0.3333333333333333,
              "#9c179e"
             ],
             [
              0.4444444444444444,
              "#bd3786"
             ],
             [
              0.5555555555555556,
              "#d8576b"
             ],
             [
              0.6666666666666666,
              "#ed7953"
             ],
             [
              0.7777777777777778,
              "#fb9f3a"
             ],
             [
              0.8888888888888888,
              "#fdca26"
             ],
             [
              1,
              "#f0f921"
             ]
            ],
            "type": "surface"
           }
          ],
          "table": [
           {
            "cells": {
             "fill": {
              "color": "#EBF0F8"
             },
             "line": {
              "color": "white"
             }
            },
            "header": {
             "fill": {
              "color": "#C8D4E3"
             },
             "line": {
              "color": "white"
             }
            },
            "type": "table"
           }
          ]
         },
         "layout": {
          "annotationdefaults": {
           "arrowcolor": "#2a3f5f",
           "arrowhead": 0,
           "arrowwidth": 1
          },
          "autotypenumbers": "strict",
          "coloraxis": {
           "colorbar": {
            "outlinewidth": 0,
            "ticks": ""
           }
          },
          "colorscale": {
           "diverging": [
            [
             0,
             "#8e0152"
            ],
            [
             0.1,
             "#c51b7d"
            ],
            [
             0.2,
             "#de77ae"
            ],
            [
             0.3,
             "#f1b6da"
            ],
            [
             0.4,
             "#fde0ef"
            ],
            [
             0.5,
             "#f7f7f7"
            ],
            [
             0.6,
             "#e6f5d0"
            ],
            [
             0.7,
             "#b8e186"
            ],
            [
             0.8,
             "#7fbc41"
            ],
            [
             0.9,
             "#4d9221"
            ],
            [
             1,
             "#276419"
            ]
           ],
           "sequential": [
            [
             0,
             "#0d0887"
            ],
            [
             0.1111111111111111,
             "#46039f"
            ],
            [
             0.2222222222222222,
             "#7201a8"
            ],
            [
             0.3333333333333333,
             "#9c179e"
            ],
            [
             0.4444444444444444,
             "#bd3786"
            ],
            [
             0.5555555555555556,
             "#d8576b"
            ],
            [
             0.6666666666666666,
             "#ed7953"
            ],
            [
             0.7777777777777778,
             "#fb9f3a"
            ],
            [
             0.8888888888888888,
             "#fdca26"
            ],
            [
             1,
             "#f0f921"
            ]
           ],
           "sequentialminus": [
            [
             0,
             "#0d0887"
            ],
            [
             0.1111111111111111,
             "#46039f"
            ],
            [
             0.2222222222222222,
             "#7201a8"
            ],
            [
             0.3333333333333333,
             "#9c179e"
            ],
            [
             0.4444444444444444,
             "#bd3786"
            ],
            [
             0.5555555555555556,
             "#d8576b"
            ],
            [
             0.6666666666666666,
             "#ed7953"
            ],
            [
             0.7777777777777778,
             "#fb9f3a"
            ],
            [
             0.8888888888888888,
             "#fdca26"
            ],
            [
             1,
             "#f0f921"
            ]
           ]
          },
          "colorway": [
           "#636efa",
           "#EF553B",
           "#00cc96",
           "#ab63fa",
           "#FFA15A",
           "#19d3f3",
           "#FF6692",
           "#B6E880",
           "#FF97FF",
           "#FECB52"
          ],
          "font": {
           "color": "#2a3f5f"
          },
          "geo": {
           "bgcolor": "white",
           "lakecolor": "white",
           "landcolor": "#E5ECF6",
           "showlakes": true,
           "showland": true,
           "subunitcolor": "white"
          },
          "hoverlabel": {
           "align": "left"
          },
          "hovermode": "closest",
          "mapbox": {
           "style": "light"
          },
          "paper_bgcolor": "white",
          "plot_bgcolor": "#E5ECF6",
          "polar": {
           "angularaxis": {
            "gridcolor": "white",
            "linecolor": "white",
            "ticks": ""
           },
           "bgcolor": "#E5ECF6",
           "radialaxis": {
            "gridcolor": "white",
            "linecolor": "white",
            "ticks": ""
           }
          },
          "scene": {
           "xaxis": {
            "backgroundcolor": "#E5ECF6",
            "gridcolor": "white",
            "gridwidth": 2,
            "linecolor": "white",
            "showbackground": true,
            "ticks": "",
            "zerolinecolor": "white"
           },
           "yaxis": {
            "backgroundcolor": "#E5ECF6",
            "gridcolor": "white",
            "gridwidth": 2,
            "linecolor": "white",
            "showbackground": true,
            "ticks": "",
            "zerolinecolor": "white"
           },
           "zaxis": {
            "backgroundcolor": "#E5ECF6",
            "gridcolor": "white",
            "gridwidth": 2,
            "linecolor": "white",
            "showbackground": true,
            "ticks": "",
            "zerolinecolor": "white"
           }
          },
          "shapedefaults": {
           "line": {
            "color": "#2a3f5f"
           }
          },
          "ternary": {
           "aaxis": {
            "gridcolor": "white",
            "linecolor": "white",
            "ticks": ""
           },
           "baxis": {
            "gridcolor": "white",
            "linecolor": "white",
            "ticks": ""
           },
           "bgcolor": "#E5ECF6",
           "caxis": {
            "gridcolor": "white",
            "linecolor": "white",
            "ticks": ""
           }
          },
          "title": {
           "x": 0.05
          },
          "xaxis": {
           "automargin": true,
           "gridcolor": "white",
           "linecolor": "white",
           "ticks": "",
           "title": {
            "standoff": 15
           },
           "zerolinecolor": "white",
           "zerolinewidth": 2
          },
          "yaxis": {
           "automargin": true,
           "gridcolor": "white",
           "linecolor": "white",
           "ticks": "",
           "title": {
            "standoff": 15
           },
           "zerolinecolor": "white",
           "zerolinewidth": 2
          }
         }
        },
        "xaxis": {
         "anchor": "y",
         "domain": [
          0,
          1
         ],
         "title": {
          "text": "Process ID"
         }
        },
        "yaxis": {
         "anchor": "x",
         "domain": [
          0,
          1
         ],
         "title": {
          "text": "Percentage of completed processes"
         }
        }
       }
      }
     },
     "metadata": {},
     "output_type": "display_data"
    }
   ],
   "source": [
    "fig = px.bar(\n",
    "    c, \n",
    "    x='process', \n",
    "    y='completed_percentage', \n",
    "    color='method', \n",
    "    barmode='group', \n",
    "    #title=\"Percentage of completed processes\",\n",
    "    labels={\n",
    "        \"process\": \"Process ID\",\n",
    "        \"completed_percentage\": \"Percentage of completed processes\",\n",
    "        \"method\": \"LLM agent information type\",\n",
    "    },\n",
    "    color_discrete_sequence=px.colors.sequential.Blues[3:5],\n",
    "    text=[f'{int(j)}% ({i}/{z})' for i,j,z in zip(c[\"completed\"], c[\"completed_percentage\"], c[\"all\"])]\n",
    ")\n",
    "fig.update_layout(legend=dict(\n",
    "    orientation=\"h\",\n",
    "    #yanchor=\"bottom\",\n",
    "    #y=-0.25,\n",
    "    #xanchor=\"right\",\n",
    "    #x=0.47\n",
    "))\n",
    "fig.update_traces(textposition='inside')\n",
    "config = {\n",
    "  'toImageButtonOptions': {\n",
    "    'format': 'png', # one of png, svg, jpeg, webp\n",
    "    'filename': 'simulation_results_process_automation',\n",
    "    'height': 600,\n",
    "    'width': 1000,\n",
    "    'scale':10 # Multiply title/legend/axis/canvas sizes by this factor\n",
    "  }\n",
    "}\n",
    "fig.show(config=config)"
   ]
  },
  {
   "cell_type": "code",
   "execution_count": 10,
   "metadata": {},
   "outputs": [
    {
     "data": {
      "text/html": [
       "<div>\n",
       "<style scoped>\n",
       "    .dataframe tbody tr th:only-of-type {\n",
       "        vertical-align: middle;\n",
       "    }\n",
       "\n",
       "    .dataframe tbody tr th {\n",
       "        vertical-align: top;\n",
       "    }\n",
       "\n",
       "    .dataframe thead th {\n",
       "        text-align: right;\n",
       "    }\n",
       "</style>\n",
       "<table border=\"1\" class=\"dataframe\">\n",
       "  <thead>\n",
       "    <tr style=\"text-align: right;\">\n",
       "      <th></th>\n",
       "      <th>completed</th>\n",
       "      <th>count</th>\n",
       "    </tr>\n",
       "  </thead>\n",
       "  <tbody>\n",
       "    <tr>\n",
       "      <th>0</th>\n",
       "      <td>No</td>\n",
       "      <td>19</td>\n",
       "    </tr>\n",
       "    <tr>\n",
       "      <th>1</th>\n",
       "      <td>Yes</td>\n",
       "      <td>99</td>\n",
       "    </tr>\n",
       "  </tbody>\n",
       "</table>\n",
       "</div>"
      ],
      "text/plain": [
       "  completed  count\n",
       "0        No     19\n",
       "1       Yes     99"
      ]
     },
     "metadata": {},
     "output_type": "display_data"
    },
    {
     "data": {
      "text/html": [
       "<div>\n",
       "<style scoped>\n",
       "    .dataframe tbody tr th:only-of-type {\n",
       "        vertical-align: middle;\n",
       "    }\n",
       "\n",
       "    .dataframe tbody tr th {\n",
       "        vertical-align: top;\n",
       "    }\n",
       "\n",
       "    .dataframe thead th {\n",
       "        text-align: right;\n",
       "    }\n",
       "</style>\n",
       "<table border=\"1\" class=\"dataframe\">\n",
       "  <thead>\n",
       "    <tr style=\"text-align: right;\">\n",
       "      <th></th>\n",
       "      <th>count</th>\n",
       "    </tr>\n",
       "    <tr>\n",
       "      <th>completed</th>\n",
       "      <th></th>\n",
       "    </tr>\n",
       "  </thead>\n",
       "  <tbody>\n",
       "    <tr>\n",
       "      <th>No</th>\n",
       "      <td>0.16</td>\n",
       "    </tr>\n",
       "    <tr>\n",
       "      <th>Yes</th>\n",
       "      <td>0.84</td>\n",
       "    </tr>\n",
       "  </tbody>\n",
       "</table>\n",
       "</div>"
      ],
      "text/plain": [
       "           count\n",
       "completed       \n",
       "No          0.16\n",
       "Yes         0.84"
      ]
     },
     "metadata": {},
     "output_type": "display_data"
    }
   ],
   "source": [
    "results_dir = \"results\"\n",
    "results_path = os.path.join(results_dir, \"simulation_results_descriptions_prep.csv\")\n",
    "results = pd.read_csv(results_path)\n",
    "results[\"incomplete_reason\"] = results[\"incomplete_reason\"].fillna(\"\")\n",
    "agg_results = results.groupby([\"idoc_id\", \"date\", \"pollex_id\", \"error_message\", \"mockups\"]).agg(list)\n",
    "agg_results[\"messages\"] = agg_results[\"messages\"].apply(lambda x: \"'\"+\"\\n\\n-----\\n\\n\".join(x))\n",
    "agg_results[\"process\"] = agg_results[\"process\"].apply(lambda x: (sum(x) / len(x)))\n",
    "agg_results[\"input_tokens\"] = agg_results[\"input_tokens\"].apply(lambda x: (sum(x) / len(x)))\n",
    "agg_results[\"output_tokens\"] = agg_results[\"output_tokens\"].apply(lambda x: (sum(x) / len(x)))\n",
    "agg_results[\"cached_tokens\"] = agg_results[\"cached_tokens\"].apply(lambda x: (sum(x) / len(x)))\n",
    "agg_results[\"price\"] = agg_results[\"price\"].apply(lambda x: (sum(x) / len(x)))\n",
    "agg_results[\"completed\"] = agg_results[\"completed\"].apply(lambda x: sum(x))\n",
    "agg_results[\"failed_attempts\"] = agg_results[\"failed_attempts\"].apply(lambda x: (sum(x) / len(x)))\n",
    "agg_results[\"incomplete_reason\"] = agg_results[\"incomplete_reason\"].apply(lambda x: \" \".join([str(y) for y in x]).strip())\n",
    "agg_results = agg_results[[\"process\", \"input_tokens\", \"output_tokens\", \"cached_tokens\", \"price\", \"completed\", \"failed_attempts\", \"messages\", \"incomplete_reason\", \"correct_steps\"]].copy()\n",
    "agg_results[\"completed_over_all_seeds\"] = agg_results[\"completed\"].apply(lambda x: x == 5)\n",
    "agg_results = agg_results.reset_index()\n",
    "agg_results[\"completed_over_all_seeds\"] = agg_results[\"completed_over_all_seeds\"].apply(lambda x: \"Yes\" if x else \"No\")\n",
    "agg_results[\"completed_over_all_seeds\"] = agg_results.apply(lambda x: \"Yes\" if x[\"incomplete_reason\"] == \"\" else \"No\", axis=1)\n",
    "\n",
    "completed = agg_results[\"completed_over_all_seeds\"].value_counts().sort_index().reset_index().rename(columns={\"completed_over_all_seeds\": \"completed\"})\n",
    "display(completed)\n",
    "completed = completed.groupby(\"completed\").agg(\"sum\") / len(agg_results)\n",
    "completed[\"count\"] = completed[\"count\"].apply(lambda x: round(x, 2))\n",
    "display(completed)"
   ]
  },
  {
   "cell_type": "code",
   "execution_count": 11,
   "metadata": {},
   "outputs": [],
   "source": [
    "PREP = False\n",
    "if PREP:\n",
    "    def get_incomplete_reason(x):\n",
    "        clear_output()\n",
    "        if x[\"completed_over_all_seeds\"] == \"Yes\":\n",
    "            return \"\"\n",
    "        print(x[\"messages\"])\n",
    "        time.sleep(1)\n",
    "        x = input(\"What was the reason for the incomplete result?\")\n",
    "        return x\n",
    "    agg_results[\"error_case\"] = agg_results.apply(get_incomplete_reason, axis=1)\n",
    "    agg_results.to_csv(\"results/simulation_results_descriptions_prep_cases.csv\", index=False)"
   ]
  },
  {
   "cell_type": "code",
   "execution_count": 12,
   "metadata": {},
   "outputs": [
    {
     "data": {
      "text/html": [
       "<div>\n",
       "<style scoped>\n",
       "    .dataframe tbody tr th:only-of-type {\n",
       "        vertical-align: middle;\n",
       "    }\n",
       "\n",
       "    .dataframe tbody tr th {\n",
       "        vertical-align: top;\n",
       "    }\n",
       "\n",
       "    .dataframe thead th {\n",
       "        text-align: right;\n",
       "    }\n",
       "</style>\n",
       "<table border=\"1\" class=\"dataframe\">\n",
       "  <thead>\n",
       "    <tr style=\"text-align: right;\">\n",
       "      <th></th>\n",
       "      <th>idoc_id</th>\n",
       "      <th>date</th>\n",
       "      <th>pollex_id</th>\n",
       "      <th>error_message</th>\n",
       "      <th>mockups</th>\n",
       "      <th>process</th>\n",
       "      <th>input_tokens</th>\n",
       "      <th>output_tokens</th>\n",
       "      <th>cached_tokens</th>\n",
       "      <th>price</th>\n",
       "      <th>completed</th>\n",
       "      <th>failed_attempts</th>\n",
       "      <th>messages</th>\n",
       "      <th>correct_steps</th>\n",
       "      <th>incomplete_reason</th>\n",
       "      <th>completed_over_all_seeds</th>\n",
       "      <th>error_case</th>\n",
       "      <th>error_case_tmp</th>\n",
       "    </tr>\n",
       "  </thead>\n",
       "  <tbody>\n",
       "    <tr>\n",
       "      <th>4</th>\n",
       "      <td>19467893</td>\n",
       "      <td>2023-01-10 00:00:00</td>\n",
       "      <td>98127.0</td>\n",
       "      <td>G/L account 404302 is not provided for in comp...</td>\n",
       "      <td>{\"RULE_BASE\": \"\", \"RPA_FIELD_VALUE\": {}, \"RFC_...</td>\n",
       "      <td>4.0</td>\n",
       "      <td>10956.0</td>\n",
       "      <td>738.4</td>\n",
       "      <td>9216.0</td>\n",
       "      <td>2.32540</td>\n",
       "      <td>1</td>\n",
       "      <td>0.6</td>\n",
       "      <td>'================================ Human Messag...</td>\n",
       "      <td>['[[\"retrieve_description_to_solve\", {\"error_m...</td>\n",
       "      <td>['', 'description misinterpretation', 'descrip...</td>\n",
       "      <td>No</td>\n",
       "      <td>case1</td>\n",
       "      <td>case1</td>\n",
       "    </tr>\n",
       "    <tr>\n",
       "      <th>16</th>\n",
       "      <td>46653730</td>\n",
       "      <td>2023-02-27 00:00:00</td>\n",
       "      <td>38466.0</td>\n",
       "      <td>G/L account 506301 is not provided for in comp...</td>\n",
       "      <td>{\"RULE_BASE\": \"\", \"RPA_FIELD_VALUE\": {}, \"RFC_...</td>\n",
       "      <td>4.0</td>\n",
       "      <td>11384.0</td>\n",
       "      <td>660.8</td>\n",
       "      <td>9984.0</td>\n",
       "      <td>2.25880</td>\n",
       "      <td>4</td>\n",
       "      <td>0.2</td>\n",
       "      <td>'================================ Human Messag...</td>\n",
       "      <td>['[[\"retrieve_description_to_solve\", {\"error_m...</td>\n",
       "      <td>['', '', '', '', 'description misinterpretation']</td>\n",
       "      <td>No</td>\n",
       "      <td>case1</td>\n",
       "      <td>case1</td>\n",
       "    </tr>\n",
       "    <tr>\n",
       "      <th>105</th>\n",
       "      <td>67518907</td>\n",
       "      <td>2023-04-21 00:00:00</td>\n",
       "      <td>74741.0</td>\n",
       "      <td>G/L account 505401 is not provided for in comp...</td>\n",
       "      <td>{\"RULE_BASE\": \"\", \"RPA_FIELD_VALUE\": {}, \"RFC_...</td>\n",
       "      <td>4.0</td>\n",
       "      <td>13073.0</td>\n",
       "      <td>731.4</td>\n",
       "      <td>12032.0</td>\n",
       "      <td>2.49565</td>\n",
       "      <td>3</td>\n",
       "      <td>1.0</td>\n",
       "      <td>'================================ Human Messag...</td>\n",
       "      <td>['[[\"retrieve_description_to_solve\", {\"error_m...</td>\n",
       "      <td>['description misinterpretation', '', '', 'des...</td>\n",
       "      <td>No</td>\n",
       "      <td>case1</td>\n",
       "      <td>case1</td>\n",
       "    </tr>\n",
       "  </tbody>\n",
       "</table>\n",
       "</div>"
      ],
      "text/plain": [
       "      idoc_id                 date  pollex_id  \\\n",
       "4    19467893  2023-01-10 00:00:00    98127.0   \n",
       "16   46653730  2023-02-27 00:00:00    38466.0   \n",
       "105  67518907  2023-04-21 00:00:00    74741.0   \n",
       "\n",
       "                                         error_message  \\\n",
       "4    G/L account 404302 is not provided for in comp...   \n",
       "16   G/L account 506301 is not provided for in comp...   \n",
       "105  G/L account 505401 is not provided for in comp...   \n",
       "\n",
       "                                               mockups  process  input_tokens  \\\n",
       "4    {\"RULE_BASE\": \"\", \"RPA_FIELD_VALUE\": {}, \"RFC_...      4.0       10956.0   \n",
       "16   {\"RULE_BASE\": \"\", \"RPA_FIELD_VALUE\": {}, \"RFC_...      4.0       11384.0   \n",
       "105  {\"RULE_BASE\": \"\", \"RPA_FIELD_VALUE\": {}, \"RFC_...      4.0       13073.0   \n",
       "\n",
       "     output_tokens  cached_tokens    price  completed  failed_attempts  \\\n",
       "4            738.4         9216.0  2.32540          1              0.6   \n",
       "16           660.8         9984.0  2.25880          4              0.2   \n",
       "105          731.4        12032.0  2.49565          3              1.0   \n",
       "\n",
       "                                              messages  \\\n",
       "4    '================================ Human Messag...   \n",
       "16   '================================ Human Messag...   \n",
       "105  '================================ Human Messag...   \n",
       "\n",
       "                                         correct_steps  \\\n",
       "4    ['[[\"retrieve_description_to_solve\", {\"error_m...   \n",
       "16   ['[[\"retrieve_description_to_solve\", {\"error_m...   \n",
       "105  ['[[\"retrieve_description_to_solve\", {\"error_m...   \n",
       "\n",
       "                                     incomplete_reason  \\\n",
       "4    ['', 'description misinterpretation', 'descrip...   \n",
       "16   ['', '', '', '', 'description misinterpretation']   \n",
       "105  ['description misinterpretation', '', '', 'des...   \n",
       "\n",
       "    completed_over_all_seeds error_case error_case_tmp  \n",
       "4                         No      case1          case1  \n",
       "16                        No      case1          case1  \n",
       "105                       No      case1          case1  "
      ]
     },
     "metadata": {},
     "output_type": "display_data"
    },
    {
     "data": {
      "text/html": [
       "<div>\n",
       "<style scoped>\n",
       "    .dataframe tbody tr th:only-of-type {\n",
       "        vertical-align: middle;\n",
       "    }\n",
       "\n",
       "    .dataframe tbody tr th {\n",
       "        vertical-align: top;\n",
       "    }\n",
       "\n",
       "    .dataframe thead th {\n",
       "        text-align: right;\n",
       "    }\n",
       "</style>\n",
       "<table border=\"1\" class=\"dataframe\">\n",
       "  <thead>\n",
       "    <tr style=\"text-align: right;\">\n",
       "      <th></th>\n",
       "      <th>error_case_tmp</th>\n",
       "      <th>count</th>\n",
       "    </tr>\n",
       "  </thead>\n",
       "  <tbody>\n",
       "    <tr>\n",
       "      <th>0</th>\n",
       "      <td>case4</td>\n",
       "      <td>90</td>\n",
       "    </tr>\n",
       "    <tr>\n",
       "      <th>1</th>\n",
       "      <td>case2</td>\n",
       "      <td>16</td>\n",
       "    </tr>\n",
       "    <tr>\n",
       "      <th>2</th>\n",
       "      <td>case3</td>\n",
       "      <td>9</td>\n",
       "    </tr>\n",
       "    <tr>\n",
       "      <th>3</th>\n",
       "      <td>case1</td>\n",
       "      <td>3</td>\n",
       "    </tr>\n",
       "  </tbody>\n",
       "</table>\n",
       "</div>"
      ],
      "text/plain": [
       "  error_case_tmp  count\n",
       "0          case4     90\n",
       "1          case2     16\n",
       "2          case3      9\n",
       "3          case1      3"
      ]
     },
     "execution_count": 12,
     "metadata": {},
     "output_type": "execute_result"
    }
   ],
   "source": [
    "agg_results = pd.read_csv(\"results/simulation_results_descriptions_prep_cases.csv\")\n",
    "agg_results[\"error_case\"] = agg_results[\"error_case\"].fillna(\"\")\n",
    "def check_for_case(x):\n",
    "    if x[\"error_case\"] != \"\":\n",
    "        return x[\"error_case\"]\n",
    "    correct_steps = ast.literal_eval(x[\"correct_steps\"]) #[ast.literal_eval(y) for y in x[\"correct_steps\"]]\n",
    "    for step in correct_steps:\n",
    "        step = ast.literal_eval(step)\n",
    "        for st in step:\n",
    "            if st[0] == \"send_email\" and st[1][\"email\"] == \"error.handler1@company.com\" :\n",
    "                return \"case3\"\n",
    "    return \"case4\"\n",
    "agg_results[\"error_case_tmp\"] = agg_results.apply(lambda x: check_for_case(x), axis=1)\n",
    "display(agg_results[agg_results[\"error_case_tmp\"] == \"case1\"])\n",
    "agg_results[\"error_case_tmp\"].value_counts().reset_index()"
   ]
  },
  {
   "cell_type": "code",
   "execution_count": 13,
   "metadata": {},
   "outputs": [
    {
     "data": {
      "text/plain": [
       "1.72"
      ]
     },
     "execution_count": 13,
     "metadata": {},
     "output_type": "execute_result"
    }
   ],
   "source": [
    "results_dir = \"results\"\n",
    "results_path = os.path.join(results_dir, \"simulation_results_rules.csv\")\n",
    "results_0 = pd.read_csv(results_path)\n",
    "results_path = os.path.join(results_dir, \"simulation_results_descriptions_prep.csv\")\n",
    "results_1 = pd.read_csv(results_path)\n",
    "results_path = os.path.join(results_dir, \"simulation_results_descriptions_user_requests.csv\")\n",
    "results_2 = pd.read_csv(results_path)\n",
    "results_path = os.path.join(results_dir, \"simulation_results_rules_user_requests.csv\")\n",
    "results_3 = pd.read_csv(results_path)\n",
    "results = pd.concat([results_0, results_1, results_2, results_3,])\n",
    "results.price.mean().round(2)"
   ]
  },
  {
   "cell_type": "markdown",
   "metadata": {},
   "source": [
    "# Results of the Synthetic User Requests Simulation"
   ]
  },
  {
   "cell_type": "code",
   "execution_count": 14,
   "metadata": {},
   "outputs": [
    {
     "name": "stdout",
     "output_type": "stream",
     "text": [
      "54\n"
     ]
    },
    {
     "data": {
      "text/plain": [
       "completed\n",
       "1    0.85\n",
       "0    0.15\n",
       "Name: count, dtype: float64"
      ]
     },
     "metadata": {},
     "output_type": "display_data"
    }
   ],
   "source": [
    "results_dir = \"results\"\n",
    "results_path = os.path.join(results_dir, \"simulation_results_rules_user_requests.csv\")\n",
    "results0 = pd.read_csv(results_path)\n",
    "print(len(results0))\n",
    "results0[\"scale\"] = results0.tasks.apply(lambda x: \"1-5\" if x < 6 else \"6-10\" if x < 11 else \"11-15\")\n",
    "results0[\"scale_id\"] = results0.scale.apply(lambda x: 0 if x == \"1-5\" else 1 if x == \"6-10\" else 2)\n",
    "results0[\"method\"] = \"rules\"\n",
    "c0 = round(results0.groupby([\"scale\", \"scale_id\", \"method\"]).completed.value_counts() / results0.scale.value_counts(), 2) * 100\n",
    "display(round(results0.completed.value_counts() / len(results0), 2))"
   ]
  },
  {
   "cell_type": "code",
   "execution_count": null,
   "metadata": {},
   "outputs": [],
   "source": [
    "CHECK_ERRORS = False\n",
    "if CHECK_ERRORS:  \n",
    "    for i, row in results0[results0[\"completed\"] == False].iterrows():\n",
    "        print(row[\"id\"])\n",
    "        print(row[\"results\"])\n",
    "        print(\"-----\")\n",
    "        print(\"-----\")\n",
    "        print()\n",
    "        x = input(\"Press Enter to continue. Type x to leave.\")\n",
    "        if x == \"x\":\n",
    "            break\n",
    "        clear_output()"
   ]
  },
  {
   "cell_type": "code",
   "execution_count": 23,
   "metadata": {},
   "outputs": [
    {
     "name": "stdout",
     "output_type": "stream",
     "text": [
      "54\n"
     ]
    },
    {
     "data": {
      "text/plain": [
       "completed\n",
       "1    0.76\n",
       "0    0.24\n",
       "Name: count, dtype: float64"
      ]
     },
     "metadata": {},
     "output_type": "display_data"
    }
   ],
   "source": [
    "results_dir = \"results\"\n",
    "results_path = os.path.join(results_dir, \"simulation_results_descriptions_user_requests.csv\")\n",
    "results1 = pd.read_csv(results_path)\n",
    "print(len(results1))\n",
    "results1[\"scale\"] = results1.tasks.apply(lambda x: \"1-5\" if x < 6 else \"6-10\" if x < 11 else \"11-15\")\n",
    "results1[\"scale_id\"] = results1.scale.apply(lambda x: 0 if x == \"1-5\" else 1 if x == \"6-10\" else 2)\n",
    "results1[\"method\"] = \"descriptions\"\n",
    "c1 = round(results1.groupby([\"scale\", \"scale_id\", \"method\"]).completed.value_counts() / results1.scale.value_counts(), 2) * 100\n",
    "display(round(results1.completed.value_counts() / len(results1), 2))"
   ]
  },
  {
   "cell_type": "code",
   "execution_count": null,
   "metadata": {},
   "outputs": [],
   "source": [
    "CHECK_ERRORS = False\n",
    "if CHECK_ERRORS:   \n",
    "    for i, row in results1[results1[\"completed\"] == False].iterrows():\n",
    "        print(row[\"id\"])\n",
    "        print(row[\"results\"])\n",
    "        print(\"-----\")\n",
    "        print(\"-----\")\n",
    "        print()\n",
    "        x = input(\"Press Enter to continue. Type x to leave.\")\n",
    "        if x == \"x\":\n",
    "            break\n",
    "        clear_output()"
   ]
  },
  {
   "cell_type": "code",
   "execution_count": 16,
   "metadata": {},
   "outputs": [
    {
     "data": {
      "text/html": [
       "<div>\n",
       "<style scoped>\n",
       "    .dataframe tbody tr th:only-of-type {\n",
       "        vertical-align: middle;\n",
       "    }\n",
       "\n",
       "    .dataframe tbody tr th {\n",
       "        vertical-align: top;\n",
       "    }\n",
       "\n",
       "    .dataframe thead th {\n",
       "        text-align: right;\n",
       "    }\n",
       "</style>\n",
       "<table border=\"1\" class=\"dataframe\">\n",
       "  <thead>\n",
       "    <tr style=\"text-align: right;\">\n",
       "      <th></th>\n",
       "      <th>scale</th>\n",
       "      <th>scale_id</th>\n",
       "      <th>method</th>\n",
       "      <th>completed</th>\n",
       "      <th>count</th>\n",
       "    </tr>\n",
       "  </thead>\n",
       "  <tbody>\n",
       "    <tr>\n",
       "      <th>6</th>\n",
       "      <td>1-5</td>\n",
       "      <td>0</td>\n",
       "      <td>descriptions</td>\n",
       "      <td>1</td>\n",
       "      <td>81.0</td>\n",
       "    </tr>\n",
       "    <tr>\n",
       "      <th>0</th>\n",
       "      <td>1-5</td>\n",
       "      <td>0</td>\n",
       "      <td>rules</td>\n",
       "      <td>1</td>\n",
       "      <td>88.0</td>\n",
       "    </tr>\n",
       "    <tr>\n",
       "      <th>10</th>\n",
       "      <td>6-10</td>\n",
       "      <td>1</td>\n",
       "      <td>descriptions</td>\n",
       "      <td>1</td>\n",
       "      <td>75.0</td>\n",
       "    </tr>\n",
       "    <tr>\n",
       "      <th>4</th>\n",
       "      <td>6-10</td>\n",
       "      <td>1</td>\n",
       "      <td>rules</td>\n",
       "      <td>1</td>\n",
       "      <td>85.0</td>\n",
       "    </tr>\n",
       "    <tr>\n",
       "      <th>8</th>\n",
       "      <td>11-15</td>\n",
       "      <td>2</td>\n",
       "      <td>descriptions</td>\n",
       "      <td>1</td>\n",
       "      <td>72.0</td>\n",
       "    </tr>\n",
       "    <tr>\n",
       "      <th>2</th>\n",
       "      <td>11-15</td>\n",
       "      <td>2</td>\n",
       "      <td>rules</td>\n",
       "      <td>1</td>\n",
       "      <td>83.0</td>\n",
       "    </tr>\n",
       "  </tbody>\n",
       "</table>\n",
       "</div>"
      ],
      "text/plain": [
       "    scale  scale_id        method  completed  count\n",
       "6     1-5         0  descriptions          1   81.0\n",
       "0     1-5         0         rules          1   88.0\n",
       "10   6-10         1  descriptions          1   75.0\n",
       "4    6-10         1         rules          1   85.0\n",
       "8   11-15         2  descriptions          1   72.0\n",
       "2   11-15         2         rules          1   83.0"
      ]
     },
     "metadata": {},
     "output_type": "display_data"
    },
    {
     "data": {
      "application/vnd.plotly.v1+json": {
       "config": {
        "plotlyServerURL": "https://plot.ly",
        "toImageButtonOptions": {
         "filename": "simulation_results_user_requests",
         "format": "png",
         "height": 600,
         "scale": 10,
         "width": 1000
        }
       },
       "data": [
        {
         "alignmentgroup": "True",
         "hovertemplate": "LLM agent information type=descriptions<br>Process Scale (Tasks)=%{x}<br>Percentage of completed user requests=%{y}<br>text=%{text}<extra></extra>",
         "legendgroup": "descriptions",
         "marker": {
          "color": "rgb(199,233,192)",
          "pattern": {
           "shape": ""
          }
         },
         "name": "descriptions",
         "offsetgroup": "descriptions",
         "orientation": "v",
         "showlegend": true,
         "text": [
          "81%",
          "75%",
          "72%"
         ],
         "textposition": "inside",
         "type": "bar",
         "x": [
          "1-5",
          "6-10",
          "11-15"
         ],
         "xaxis": "x",
         "y": {
          "bdata": "AAAAAABAVEAAAAAAAMBSQAAAAAAAAFJA",
          "dtype": "f8"
         },
         "yaxis": "y"
        },
        {
         "alignmentgroup": "True",
         "hovertemplate": "LLM agent information type=rules<br>Process Scale (Tasks)=%{x}<br>Percentage of completed user requests=%{y}<br>text=%{text}<extra></extra>",
         "legendgroup": "rules",
         "marker": {
          "color": "rgb(161,217,155)",
          "pattern": {
           "shape": ""
          }
         },
         "name": "rules",
         "offsetgroup": "rules",
         "orientation": "v",
         "showlegend": true,
         "text": [
          "88%",
          "85%",
          "83%"
         ],
         "textposition": "inside",
         "type": "bar",
         "x": [
          "1-5",
          "6-10",
          "11-15"
         ],
         "xaxis": "x",
         "y": {
          "bdata": "AAAAAAAAVkAAAAAAAEBVQAAAAAAAwFRA",
          "dtype": "f8"
         },
         "yaxis": "y"
        }
       ],
       "layout": {
        "barmode": "group",
        "legend": {
         "orientation": "h",
         "title": {
          "text": "LLM agent information type"
         },
         "tracegroupgap": 0
        },
        "margin": {
         "t": 60
        },
        "template": {
         "data": {
          "bar": [
           {
            "error_x": {
             "color": "#2a3f5f"
            },
            "error_y": {
             "color": "#2a3f5f"
            },
            "marker": {
             "line": {
              "color": "#E5ECF6",
              "width": 0.5
             },
             "pattern": {
              "fillmode": "overlay",
              "size": 10,
              "solidity": 0.2
             }
            },
            "type": "bar"
           }
          ],
          "barpolar": [
           {
            "marker": {
             "line": {
              "color": "#E5ECF6",
              "width": 0.5
             },
             "pattern": {
              "fillmode": "overlay",
              "size": 10,
              "solidity": 0.2
             }
            },
            "type": "barpolar"
           }
          ],
          "carpet": [
           {
            "aaxis": {
             "endlinecolor": "#2a3f5f",
             "gridcolor": "white",
             "linecolor": "white",
             "minorgridcolor": "white",
             "startlinecolor": "#2a3f5f"
            },
            "baxis": {
             "endlinecolor": "#2a3f5f",
             "gridcolor": "white",
             "linecolor": "white",
             "minorgridcolor": "white",
             "startlinecolor": "#2a3f5f"
            },
            "type": "carpet"
           }
          ],
          "choropleth": [
           {
            "colorbar": {
             "outlinewidth": 0,
             "ticks": ""
            },
            "type": "choropleth"
           }
          ],
          "contour": [
           {
            "colorbar": {
             "outlinewidth": 0,
             "ticks": ""
            },
            "colorscale": [
             [
              0,
              "#0d0887"
             ],
             [
              0.1111111111111111,
              "#46039f"
             ],
             [
              0.2222222222222222,
              "#7201a8"
             ],
             [
              0.3333333333333333,
              "#9c179e"
             ],
             [
              0.4444444444444444,
              "#bd3786"
             ],
             [
              0.5555555555555556,
              "#d8576b"
             ],
             [
              0.6666666666666666,
              "#ed7953"
             ],
             [
              0.7777777777777778,
              "#fb9f3a"
             ],
             [
              0.8888888888888888,
              "#fdca26"
             ],
             [
              1,
              "#f0f921"
             ]
            ],
            "type": "contour"
           }
          ],
          "contourcarpet": [
           {
            "colorbar": {
             "outlinewidth": 0,
             "ticks": ""
            },
            "type": "contourcarpet"
           }
          ],
          "heatmap": [
           {
            "colorbar": {
             "outlinewidth": 0,
             "ticks": ""
            },
            "colorscale": [
             [
              0,
              "#0d0887"
             ],
             [
              0.1111111111111111,
              "#46039f"
             ],
             [
              0.2222222222222222,
              "#7201a8"
             ],
             [
              0.3333333333333333,
              "#9c179e"
             ],
             [
              0.4444444444444444,
              "#bd3786"
             ],
             [
              0.5555555555555556,
              "#d8576b"
             ],
             [
              0.6666666666666666,
              "#ed7953"
             ],
             [
              0.7777777777777778,
              "#fb9f3a"
             ],
             [
              0.8888888888888888,
              "#fdca26"
             ],
             [
              1,
              "#f0f921"
             ]
            ],
            "type": "heatmap"
           }
          ],
          "histogram": [
           {
            "marker": {
             "pattern": {
              "fillmode": "overlay",
              "size": 10,
              "solidity": 0.2
             }
            },
            "type": "histogram"
           }
          ],
          "histogram2d": [
           {
            "colorbar": {
             "outlinewidth": 0,
             "ticks": ""
            },
            "colorscale": [
             [
              0,
              "#0d0887"
             ],
             [
              0.1111111111111111,
              "#46039f"
             ],
             [
              0.2222222222222222,
              "#7201a8"
             ],
             [
              0.3333333333333333,
              "#9c179e"
             ],
             [
              0.4444444444444444,
              "#bd3786"
             ],
             [
              0.5555555555555556,
              "#d8576b"
             ],
             [
              0.6666666666666666,
              "#ed7953"
             ],
             [
              0.7777777777777778,
              "#fb9f3a"
             ],
             [
              0.8888888888888888,
              "#fdca26"
             ],
             [
              1,
              "#f0f921"
             ]
            ],
            "type": "histogram2d"
           }
          ],
          "histogram2dcontour": [
           {
            "colorbar": {
             "outlinewidth": 0,
             "ticks": ""
            },
            "colorscale": [
             [
              0,
              "#0d0887"
             ],
             [
              0.1111111111111111,
              "#46039f"
             ],
             [
              0.2222222222222222,
              "#7201a8"
             ],
             [
              0.3333333333333333,
              "#9c179e"
             ],
             [
              0.4444444444444444,
              "#bd3786"
             ],
             [
              0.5555555555555556,
              "#d8576b"
             ],
             [
              0.6666666666666666,
              "#ed7953"
             ],
             [
              0.7777777777777778,
              "#fb9f3a"
             ],
             [
              0.8888888888888888,
              "#fdca26"
             ],
             [
              1,
              "#f0f921"
             ]
            ],
            "type": "histogram2dcontour"
           }
          ],
          "mesh3d": [
           {
            "colorbar": {
             "outlinewidth": 0,
             "ticks": ""
            },
            "type": "mesh3d"
           }
          ],
          "parcoords": [
           {
            "line": {
             "colorbar": {
              "outlinewidth": 0,
              "ticks": ""
             }
            },
            "type": "parcoords"
           }
          ],
          "pie": [
           {
            "automargin": true,
            "type": "pie"
           }
          ],
          "scatter": [
           {
            "fillpattern": {
             "fillmode": "overlay",
             "size": 10,
             "solidity": 0.2
            },
            "type": "scatter"
           }
          ],
          "scatter3d": [
           {
            "line": {
             "colorbar": {
              "outlinewidth": 0,
              "ticks": ""
             }
            },
            "marker": {
             "colorbar": {
              "outlinewidth": 0,
              "ticks": ""
             }
            },
            "type": "scatter3d"
           }
          ],
          "scattercarpet": [
           {
            "marker": {
             "colorbar": {
              "outlinewidth": 0,
              "ticks": ""
             }
            },
            "type": "scattercarpet"
           }
          ],
          "scattergeo": [
           {
            "marker": {
             "colorbar": {
              "outlinewidth": 0,
              "ticks": ""
             }
            },
            "type": "scattergeo"
           }
          ],
          "scattergl": [
           {
            "marker": {
             "colorbar": {
              "outlinewidth": 0,
              "ticks": ""
             }
            },
            "type": "scattergl"
           }
          ],
          "scattermap": [
           {
            "marker": {
             "colorbar": {
              "outlinewidth": 0,
              "ticks": ""
             }
            },
            "type": "scattermap"
           }
          ],
          "scattermapbox": [
           {
            "marker": {
             "colorbar": {
              "outlinewidth": 0,
              "ticks": ""
             }
            },
            "type": "scattermapbox"
           }
          ],
          "scatterpolar": [
           {
            "marker": {
             "colorbar": {
              "outlinewidth": 0,
              "ticks": ""
             }
            },
            "type": "scatterpolar"
           }
          ],
          "scatterpolargl": [
           {
            "marker": {
             "colorbar": {
              "outlinewidth": 0,
              "ticks": ""
             }
            },
            "type": "scatterpolargl"
           }
          ],
          "scatterternary": [
           {
            "marker": {
             "colorbar": {
              "outlinewidth": 0,
              "ticks": ""
             }
            },
            "type": "scatterternary"
           }
          ],
          "surface": [
           {
            "colorbar": {
             "outlinewidth": 0,
             "ticks": ""
            },
            "colorscale": [
             [
              0,
              "#0d0887"
             ],
             [
              0.1111111111111111,
              "#46039f"
             ],
             [
              0.2222222222222222,
              "#7201a8"
             ],
             [
              0.3333333333333333,
              "#9c179e"
             ],
             [
              0.4444444444444444,
              "#bd3786"
             ],
             [
              0.5555555555555556,
              "#d8576b"
             ],
             [
              0.6666666666666666,
              "#ed7953"
             ],
             [
              0.7777777777777778,
              "#fb9f3a"
             ],
             [
              0.8888888888888888,
              "#fdca26"
             ],
             [
              1,
              "#f0f921"
             ]
            ],
            "type": "surface"
           }
          ],
          "table": [
           {
            "cells": {
             "fill": {
              "color": "#EBF0F8"
             },
             "line": {
              "color": "white"
             }
            },
            "header": {
             "fill": {
              "color": "#C8D4E3"
             },
             "line": {
              "color": "white"
             }
            },
            "type": "table"
           }
          ]
         },
         "layout": {
          "annotationdefaults": {
           "arrowcolor": "#2a3f5f",
           "arrowhead": 0,
           "arrowwidth": 1
          },
          "autotypenumbers": "strict",
          "coloraxis": {
           "colorbar": {
            "outlinewidth": 0,
            "ticks": ""
           }
          },
          "colorscale": {
           "diverging": [
            [
             0,
             "#8e0152"
            ],
            [
             0.1,
             "#c51b7d"
            ],
            [
             0.2,
             "#de77ae"
            ],
            [
             0.3,
             "#f1b6da"
            ],
            [
             0.4,
             "#fde0ef"
            ],
            [
             0.5,
             "#f7f7f7"
            ],
            [
             0.6,
             "#e6f5d0"
            ],
            [
             0.7,
             "#b8e186"
            ],
            [
             0.8,
             "#7fbc41"
            ],
            [
             0.9,
             "#4d9221"
            ],
            [
             1,
             "#276419"
            ]
           ],
           "sequential": [
            [
             0,
             "#0d0887"
            ],
            [
             0.1111111111111111,
             "#46039f"
            ],
            [
             0.2222222222222222,
             "#7201a8"
            ],
            [
             0.3333333333333333,
             "#9c179e"
            ],
            [
             0.4444444444444444,
             "#bd3786"
            ],
            [
             0.5555555555555556,
             "#d8576b"
            ],
            [
             0.6666666666666666,
             "#ed7953"
            ],
            [
             0.7777777777777778,
             "#fb9f3a"
            ],
            [
             0.8888888888888888,
             "#fdca26"
            ],
            [
             1,
             "#f0f921"
            ]
           ],
           "sequentialminus": [
            [
             0,
             "#0d0887"
            ],
            [
             0.1111111111111111,
             "#46039f"
            ],
            [
             0.2222222222222222,
             "#7201a8"
            ],
            [
             0.3333333333333333,
             "#9c179e"
            ],
            [
             0.4444444444444444,
             "#bd3786"
            ],
            [
             0.5555555555555556,
             "#d8576b"
            ],
            [
             0.6666666666666666,
             "#ed7953"
            ],
            [
             0.7777777777777778,
             "#fb9f3a"
            ],
            [
             0.8888888888888888,
             "#fdca26"
            ],
            [
             1,
             "#f0f921"
            ]
           ]
          },
          "colorway": [
           "#636efa",
           "#EF553B",
           "#00cc96",
           "#ab63fa",
           "#FFA15A",
           "#19d3f3",
           "#FF6692",
           "#B6E880",
           "#FF97FF",
           "#FECB52"
          ],
          "font": {
           "color": "#2a3f5f"
          },
          "geo": {
           "bgcolor": "white",
           "lakecolor": "white",
           "landcolor": "#E5ECF6",
           "showlakes": true,
           "showland": true,
           "subunitcolor": "white"
          },
          "hoverlabel": {
           "align": "left"
          },
          "hovermode": "closest",
          "mapbox": {
           "style": "light"
          },
          "paper_bgcolor": "white",
          "plot_bgcolor": "#E5ECF6",
          "polar": {
           "angularaxis": {
            "gridcolor": "white",
            "linecolor": "white",
            "ticks": ""
           },
           "bgcolor": "#E5ECF6",
           "radialaxis": {
            "gridcolor": "white",
            "linecolor": "white",
            "ticks": ""
           }
          },
          "scene": {
           "xaxis": {
            "backgroundcolor": "#E5ECF6",
            "gridcolor": "white",
            "gridwidth": 2,
            "linecolor": "white",
            "showbackground": true,
            "ticks": "",
            "zerolinecolor": "white"
           },
           "yaxis": {
            "backgroundcolor": "#E5ECF6",
            "gridcolor": "white",
            "gridwidth": 2,
            "linecolor": "white",
            "showbackground": true,
            "ticks": "",
            "zerolinecolor": "white"
           },
           "zaxis": {
            "backgroundcolor": "#E5ECF6",
            "gridcolor": "white",
            "gridwidth": 2,
            "linecolor": "white",
            "showbackground": true,
            "ticks": "",
            "zerolinecolor": "white"
           }
          },
          "shapedefaults": {
           "line": {
            "color": "#2a3f5f"
           }
          },
          "ternary": {
           "aaxis": {
            "gridcolor": "white",
            "linecolor": "white",
            "ticks": ""
           },
           "baxis": {
            "gridcolor": "white",
            "linecolor": "white",
            "ticks": ""
           },
           "bgcolor": "#E5ECF6",
           "caxis": {
            "gridcolor": "white",
            "linecolor": "white",
            "ticks": ""
           }
          },
          "title": {
           "x": 0.05
          },
          "xaxis": {
           "automargin": true,
           "gridcolor": "white",
           "linecolor": "white",
           "ticks": "",
           "title": {
            "standoff": 15
           },
           "zerolinecolor": "white",
           "zerolinewidth": 2
          },
          "yaxis": {
           "automargin": true,
           "gridcolor": "white",
           "linecolor": "white",
           "ticks": "",
           "title": {
            "standoff": 15
           },
           "zerolinecolor": "white",
           "zerolinewidth": 2
          }
         }
        },
        "xaxis": {
         "anchor": "y",
         "domain": [
          0,
          1
         ],
         "title": {
          "text": "Process Scale (Tasks)"
         }
        },
        "yaxis": {
         "anchor": "x",
         "domain": [
          0,
          1
         ],
         "title": {
          "text": "Percentage of completed user requests"
         }
        }
       }
      }
     },
     "metadata": {},
     "output_type": "display_data"
    }
   ],
   "source": [
    "c = pd.concat([c0, c1])\n",
    "c = c.reset_index()\n",
    "c = c[c[\"completed\"] == 1]\n",
    "c = c.sort_values([\"scale_id\", \"method\"])\n",
    "display(c)\n",
    "fig = px.bar(\n",
    "    c, \n",
    "    x='scale', \n",
    "    y='count', \n",
    "    color='method', \n",
    "    barmode='group', \n",
    "    #title=\"Percentage of completed processes\",\n",
    "    labels={\n",
    "        \"scale\": \"Process Scale (Tasks)\",\n",
    "        \"count\": \"Percentage of completed user requests\",\n",
    "        \"method\": \"LLM agent information type\",\n",
    "    },\n",
    "    color_discrete_sequence=px.colors.sequential.Greens[2:4],\n",
    "    text=[f'{int(j)}%' for j in c[\"count\"]]\n",
    ")\n",
    "fig.update_layout(legend=dict(\n",
    "    orientation=\"h\",\n",
    "    #yanchor=\"bottom\",\n",
    "    #y=-0.25,\n",
    "    #xanchor=\"right\",\n",
    "    #x=0.8\n",
    "))\n",
    "fig.update_traces(textposition='inside')\n",
    "config = {\n",
    "  'toImageButtonOptions': {\n",
    "    'format': 'png', # one of png, svg, jpeg, webp\n",
    "    'filename': 'simulation_results_user_requests',\n",
    "    'height': 600,\n",
    "    'width': 1000,\n",
    "    'scale':10 # Multiply title/legend/axis/canvas sizes by this factor\n",
    "  }\n",
    "}\n",
    "fig.show(config=config)"
   ]
  }
 ],
 "metadata": {
  "kernelspec": {
   "display_name": "agentic_bpm",
   "language": "python",
   "name": "python3"
  },
  "language_info": {
   "codemirror_mode": {
    "name": "ipython",
    "version": 3
   },
   "file_extension": ".py",
   "mimetype": "text/x-python",
   "name": "python",
   "nbconvert_exporter": "python",
   "pygments_lexer": "ipython3",
   "version": "3.11.11"
  }
 },
 "nbformat": 4,
 "nbformat_minor": 2
}
